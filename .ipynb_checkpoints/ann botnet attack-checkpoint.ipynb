{
 "cells": [
  {
   "cell_type": "code",
   "execution_count": 113,
   "id": "e4f3058a",
   "metadata": {},
   "outputs": [],
   "source": [
    "import numpy as np  \n",
    "import pandas as pd \n",
    "import os\n",
    "\n",
    "%matplotlib inline\n",
    "import matplotlib.pyplot as plt\n",
    "from glob import glob\n",
    "import seaborn as sns\n",
    "from PIL import Image\n",
    "\n",
    "\n",
    "\n"
   ]
  },
  {
   "cell_type": "code",
   "execution_count": 115,
   "id": "8e46abd1",
   "metadata": {},
   "outputs": [],
   "source": [
    "benign=pd.read_csv('nbaiot-dataset/5.benign.csv')\n",
    "g_c=pd.read_csv('nbaiot-dataset/5.gafgyt.combo.csv')\n",
    "g_j=pd.read_csv('nbaiot-dataset/5.gafgyt.junk.csv')\n",
    "g_s=pd.read_csv('nbaiot-dataset/5.gafgyt.scan.csv')\n",
    "g_t=pd.read_csv('nbaiot-dataset/5.gafgyt.tcp.csv')\n",
    "g_u=pd.read_csv('nbaiot-dataset/5.gafgyt.udp.csv')\n",
    "m_a=pd.read_csv('nbaiot-dataset/5.mirai.ack.csv')\n",
    "m_sc=pd.read_csv('nbaiot-dataset/5.mirai.scan.csv')\n",
    "m_sy=pd.read_csv('nbaiot-dataset/5.mirai.syn.csv')\n",
    "m_u=pd.read_csv('nbaiot-dataset/5.mirai.udp.csv')\n",
    "m_u_p=pd.read_csv('nbaiot-dataset/5.mirai.udpplain.csv')\n"
   ]
  },
  {
   "cell_type": "code",
   "execution_count": 116,
   "id": "84c35804",
   "metadata": {},
   "outputs": [],
   "source": [
    "benign['type']='benign'\n",
    "m_u['type']='mirai_udp'\n",
    "g_c['type']='gafgyt_combo'\n",
    "g_j['type']='gafgyt_junk'\n",
    "g_s['type']='gafgyt_scan'\n",
    "g_t['type']='gafgyt_tcp'\n",
    "g_u['type']='gafgyt_udp'\n",
    "m_a['type']='mirai_ack'\n",
    "m_sc['type']='mirai_scan'\n",
    "m_sy['type']='mirai_syn'\n",
    "m_u_p['type']='mirai_udpplain'"
   ]
  },
  {
   "cell_type": "code",
   "execution_count": 117,
   "id": "3f8fa1d5",
   "metadata": {},
   "outputs": [],
   "source": [
    "data=pd.concat([benign,m_u,g_c,g_j,g_s,g_t,g_u,m_a,m_sc,m_sy,m_u_p],\n",
    "               axis=0, sort=False, ignore_index=True)"
   ]
  },
  {
   "cell_type": "code",
   "execution_count": 118,
   "id": "ff07cd5c",
   "metadata": {},
   "outputs": [
    {
     "data": {
      "text/plain": [
       "type\n",
       "benign             62154\n",
       "gafgyt_combo       61380\n",
       "gafgyt_junk        30898\n",
       "gafgyt_scan        29297\n",
       "gafgyt_tcp        104510\n",
       "gafgyt_udp        104011\n",
       "mirai_ack          60554\n",
       "mirai_scan         96781\n",
       "mirai_syn          65746\n",
       "mirai_udp         156248\n",
       "mirai_udpplain     56681\n",
       "Name: type, dtype: int64"
      ]
     },
     "execution_count": 118,
     "metadata": {},
     "output_type": "execute_result"
    }
   ],
   "source": [
    "data.groupby('type')['type'].count()"
   ]
  },
  {
   "cell_type": "code",
   "execution_count": 119,
   "id": "218de0dc",
   "metadata": {},
   "outputs": [],
   "source": [
    "sampler=np.random.permutation(len(data))\n",
    "data=data.take(sampler)"
   ]
  },
  {
   "cell_type": "code",
   "execution_count": 120,
   "id": "fdadd705",
   "metadata": {},
   "outputs": [],
   "source": [
    "labels_full=pd.get_dummies(data['type'], prefix='type')"
   ]
  },
  {
   "cell_type": "code",
   "execution_count": null,
   "id": "6ffeec6f",
   "metadata": {},
   "outputs": [],
   "source": []
  },
  {
   "cell_type": "code",
   "execution_count": 121,
   "id": "c9489961",
   "metadata": {},
   "outputs": [
    {
     "data": {
      "text/html": [
       "<div>\n",
       "<style scoped>\n",
       "    .dataframe tbody tr th:only-of-type {\n",
       "        vertical-align: middle;\n",
       "    }\n",
       "\n",
       "    .dataframe tbody tr th {\n",
       "        vertical-align: top;\n",
       "    }\n",
       "\n",
       "    .dataframe thead th {\n",
       "        text-align: right;\n",
       "    }\n",
       "</style>\n",
       "<table border=\"1\" class=\"dataframe\">\n",
       "  <thead>\n",
       "    <tr style=\"text-align: right;\">\n",
       "      <th></th>\n",
       "      <th>MI_dir_L5_weight</th>\n",
       "      <th>MI_dir_L5_mean</th>\n",
       "      <th>MI_dir_L5_variance</th>\n",
       "      <th>MI_dir_L3_weight</th>\n",
       "      <th>MI_dir_L3_mean</th>\n",
       "      <th>MI_dir_L3_variance</th>\n",
       "      <th>MI_dir_L1_weight</th>\n",
       "      <th>MI_dir_L1_mean</th>\n",
       "      <th>MI_dir_L1_variance</th>\n",
       "      <th>MI_dir_L0.1_weight</th>\n",
       "      <th>...</th>\n",
       "      <th>HpHp_L0.1_radius</th>\n",
       "      <th>HpHp_L0.1_covariance</th>\n",
       "      <th>HpHp_L0.1_pcc</th>\n",
       "      <th>HpHp_L0.01_weight</th>\n",
       "      <th>HpHp_L0.01_mean</th>\n",
       "      <th>HpHp_L0.01_std</th>\n",
       "      <th>HpHp_L0.01_magnitude</th>\n",
       "      <th>HpHp_L0.01_radius</th>\n",
       "      <th>HpHp_L0.01_covariance</th>\n",
       "      <th>HpHp_L0.01_pcc</th>\n",
       "    </tr>\n",
       "  </thead>\n",
       "  <tbody>\n",
       "    <tr>\n",
       "      <th>561290</th>\n",
       "      <td>2.058468</td>\n",
       "      <td>0.799873</td>\n",
       "      <td>1.835440</td>\n",
       "      <td>1.860562</td>\n",
       "      <td>0.956222</td>\n",
       "      <td>1.697298</td>\n",
       "      <td>1.294389</td>\n",
       "      <td>1.209907</td>\n",
       "      <td>1.561757</td>\n",
       "      <td>0.691531</td>\n",
       "      <td>...</td>\n",
       "      <td>-0.088211</td>\n",
       "      <td>-0.086932</td>\n",
       "      <td>-0.062471</td>\n",
       "      <td>-0.171718</td>\n",
       "      <td>2.162100</td>\n",
       "      <td>-0.114248</td>\n",
       "      <td>2.131236</td>\n",
       "      <td>-0.08798</td>\n",
       "      <td>-0.085239</td>\n",
       "      <td>0.0</td>\n",
       "    </tr>\n",
       "    <tr>\n",
       "      <th>409969</th>\n",
       "      <td>-1.075703</td>\n",
       "      <td>-0.672164</td>\n",
       "      <td>-0.679439</td>\n",
       "      <td>-1.073401</td>\n",
       "      <td>-0.705695</td>\n",
       "      <td>-0.706091</td>\n",
       "      <td>-1.081377</td>\n",
       "      <td>-0.743168</td>\n",
       "      <td>-0.724389</td>\n",
       "      <td>-1.121166</td>\n",
       "      <td>...</td>\n",
       "      <td>-0.088211</td>\n",
       "      <td>-0.086932</td>\n",
       "      <td>-0.062471</td>\n",
       "      <td>-0.171718</td>\n",
       "      <td>-0.503039</td>\n",
       "      <td>-0.114248</td>\n",
       "      <td>-0.519127</td>\n",
       "      <td>-0.08798</td>\n",
       "      <td>-0.085239</td>\n",
       "      <td>0.0</td>\n",
       "    </tr>\n",
       "    <tr>\n",
       "      <th>381711</th>\n",
       "      <td>-1.075703</td>\n",
       "      <td>-0.672164</td>\n",
       "      <td>-0.679439</td>\n",
       "      <td>-1.073401</td>\n",
       "      <td>-0.705695</td>\n",
       "      <td>-0.706091</td>\n",
       "      <td>-1.081377</td>\n",
       "      <td>-0.743168</td>\n",
       "      <td>-0.724389</td>\n",
       "      <td>-1.121166</td>\n",
       "      <td>...</td>\n",
       "      <td>-0.088211</td>\n",
       "      <td>-0.086932</td>\n",
       "      <td>-0.062471</td>\n",
       "      <td>-0.171718</td>\n",
       "      <td>-0.503039</td>\n",
       "      <td>-0.114248</td>\n",
       "      <td>-0.519127</td>\n",
       "      <td>-0.08798</td>\n",
       "      <td>-0.085239</td>\n",
       "      <td>0.0</td>\n",
       "    </tr>\n",
       "    <tr>\n",
       "      <th>468624</th>\n",
       "      <td>-1.075703</td>\n",
       "      <td>-0.672164</td>\n",
       "      <td>-0.679439</td>\n",
       "      <td>-1.073401</td>\n",
       "      <td>-0.705695</td>\n",
       "      <td>-0.706091</td>\n",
       "      <td>-1.081377</td>\n",
       "      <td>-0.743168</td>\n",
       "      <td>-0.724389</td>\n",
       "      <td>-1.121166</td>\n",
       "      <td>...</td>\n",
       "      <td>-0.088211</td>\n",
       "      <td>-0.086932</td>\n",
       "      <td>-0.062471</td>\n",
       "      <td>-0.171718</td>\n",
       "      <td>-0.503039</td>\n",
       "      <td>-0.114248</td>\n",
       "      <td>-0.519127</td>\n",
       "      <td>-0.08798</td>\n",
       "      <td>-0.085239</td>\n",
       "      <td>0.0</td>\n",
       "    </tr>\n",
       "    <tr>\n",
       "      <th>143297</th>\n",
       "      <td>0.314999</td>\n",
       "      <td>1.005125</td>\n",
       "      <td>1.790545</td>\n",
       "      <td>0.356390</td>\n",
       "      <td>1.223487</td>\n",
       "      <td>1.608780</td>\n",
       "      <td>0.617062</td>\n",
       "      <td>1.444022</td>\n",
       "      <td>1.414654</td>\n",
       "      <td>0.865022</td>\n",
       "      <td>...</td>\n",
       "      <td>-0.088211</td>\n",
       "      <td>-0.086932</td>\n",
       "      <td>-0.062471</td>\n",
       "      <td>-0.171718</td>\n",
       "      <td>-0.503039</td>\n",
       "      <td>-0.114248</td>\n",
       "      <td>-0.519127</td>\n",
       "      <td>-0.08798</td>\n",
       "      <td>-0.085239</td>\n",
       "      <td>0.0</td>\n",
       "    </tr>\n",
       "  </tbody>\n",
       "</table>\n",
       "<p>5 rows × 115 columns</p>\n",
       "</div>"
      ],
      "text/plain": [
       "        MI_dir_L5_weight  MI_dir_L5_mean  MI_dir_L5_variance  \\\n",
       "561290          2.058468        0.799873            1.835440   \n",
       "409969         -1.075703       -0.672164           -0.679439   \n",
       "381711         -1.075703       -0.672164           -0.679439   \n",
       "468624         -1.075703       -0.672164           -0.679439   \n",
       "143297          0.314999        1.005125            1.790545   \n",
       "\n",
       "        MI_dir_L3_weight  MI_dir_L3_mean  MI_dir_L3_variance  \\\n",
       "561290          1.860562        0.956222            1.697298   \n",
       "409969         -1.073401       -0.705695           -0.706091   \n",
       "381711         -1.073401       -0.705695           -0.706091   \n",
       "468624         -1.073401       -0.705695           -0.706091   \n",
       "143297          0.356390        1.223487            1.608780   \n",
       "\n",
       "        MI_dir_L1_weight  MI_dir_L1_mean  MI_dir_L1_variance  \\\n",
       "561290          1.294389        1.209907            1.561757   \n",
       "409969         -1.081377       -0.743168           -0.724389   \n",
       "381711         -1.081377       -0.743168           -0.724389   \n",
       "468624         -1.081377       -0.743168           -0.724389   \n",
       "143297          0.617062        1.444022            1.414654   \n",
       "\n",
       "        MI_dir_L0.1_weight  ...  HpHp_L0.1_radius  HpHp_L0.1_covariance  \\\n",
       "561290            0.691531  ...         -0.088211             -0.086932   \n",
       "409969           -1.121166  ...         -0.088211             -0.086932   \n",
       "381711           -1.121166  ...         -0.088211             -0.086932   \n",
       "468624           -1.121166  ...         -0.088211             -0.086932   \n",
       "143297            0.865022  ...         -0.088211             -0.086932   \n",
       "\n",
       "        HpHp_L0.1_pcc  HpHp_L0.01_weight  HpHp_L0.01_mean  HpHp_L0.01_std  \\\n",
       "561290      -0.062471          -0.171718         2.162100       -0.114248   \n",
       "409969      -0.062471          -0.171718        -0.503039       -0.114248   \n",
       "381711      -0.062471          -0.171718        -0.503039       -0.114248   \n",
       "468624      -0.062471          -0.171718        -0.503039       -0.114248   \n",
       "143297      -0.062471          -0.171718        -0.503039       -0.114248   \n",
       "\n",
       "        HpHp_L0.01_magnitude  HpHp_L0.01_radius  HpHp_L0.01_covariance  \\\n",
       "561290              2.131236           -0.08798              -0.085239   \n",
       "409969             -0.519127           -0.08798              -0.085239   \n",
       "381711             -0.519127           -0.08798              -0.085239   \n",
       "468624             -0.519127           -0.08798              -0.085239   \n",
       "143297             -0.519127           -0.08798              -0.085239   \n",
       "\n",
       "        HpHp_L0.01_pcc  \n",
       "561290             0.0  \n",
       "409969             0.0  \n",
       "381711             0.0  \n",
       "468624             0.0  \n",
       "143297             0.0  \n",
       "\n",
       "[5 rows x 115 columns]"
      ]
     },
     "execution_count": 121,
     "metadata": {},
     "output_type": "execute_result"
    }
   ],
   "source": [
    "data=data.drop(columns='type')\n",
    "data.head()\n",
    "\n",
    "\n",
    "def standardize(df,col):\n",
    "    df[col]= (df[col]-df[col].mean())/df[col].std()\n",
    "\n",
    "data_st=data.copy()\n",
    "for i in (data_st.iloc[:,:-1].columns):\n",
    "    standardize (data_st,i)\n",
    "\n",
    "data_st.head()"
   ]
  },
  {
   "cell_type": "code",
   "execution_count": 122,
   "id": "152bdef2",
   "metadata": {},
   "outputs": [],
   "source": [
    "train_data_st=data_st.values"
   ]
  },
  {
   "cell_type": "code",
   "execution_count": 123,
   "id": "6b1f3165",
   "metadata": {},
   "outputs": [
    {
     "data": {
      "text/plain": [
       "array([[0, 0, 0, ..., 0, 0, 0],\n",
       "       [0, 0, 0, ..., 0, 0, 0],\n",
       "       [0, 0, 0, ..., 0, 0, 0],\n",
       "       ...,\n",
       "       [0, 1, 0, ..., 0, 0, 0],\n",
       "       [0, 0, 0, ..., 1, 0, 0],\n",
       "       [0, 0, 0, ..., 0, 1, 0]], dtype=uint8)"
      ]
     },
     "execution_count": 123,
     "metadata": {},
     "output_type": "execute_result"
    }
   ],
   "source": [
    "labels=labels_full.values\n",
    "labels"
   ]
  },
  {
   "cell_type": "code",
   "execution_count": 124,
   "id": "36a24af4",
   "metadata": {},
   "outputs": [
    {
     "name": "stdout",
     "output_type": "stream",
     "text": [
      "(579782, 115)\n",
      "(165652, 115)\n",
      "(82826, 115)\n"
     ]
    }
   ],
   "source": [
    "x_train, x_test, y_train, y_test = train_test_split(train_data_st, labels, test_size=0.2)\n",
    "x_train, x_validate, y_train, y_validate = train_test_split(x_train, y_train, test_size=0.125)\n",
    "\n",
    "print(x_train.shape)\n",
    "print(x_test.shape)\n",
    "print(x_validate.shape)"
   ]
  },
  {
   "cell_type": "code",
   "execution_count": 125,
   "id": "96c6e359",
   "metadata": {},
   "outputs": [
    {
     "name": "stdout",
     "output_type": "stream",
     "text": [
      "(579782, 115, 1)\n",
      "(165652, 115, 1)\n",
      "(82826, 115, 1)\n"
     ]
    }
   ],
   "source": [
    "x_train_cnn = np.reshape(x_train, (x_train.shape[0], x_train.shape[1],1))\n",
    "x_test_cnn = np.reshape(x_test, (x_test.shape[0], x_test.shape[1],1))\n",
    "x_validate_cnn = np.reshape(x_validate, (x_validate.shape[0], x_validate.shape[1],1))\n",
    "print(x_train_cnn.shape)\n",
    "print(x_test_cnn.shape)\n",
    "print(x_validate_cnn.shape)"
   ]
  },
  {
   "cell_type": "code",
   "execution_count": 126,
   "id": "fd30e857",
   "metadata": {},
   "outputs": [
    {
     "name": "stdout",
     "output_type": "stream",
     "text": [
      "You must install pydot (`pip install pydot`) and install graphviz (see instructions at https://graphviz.gitlab.io/download/) for plot_model/model_to_dot to work.\n",
      "Model: \"sequential_5\"\n",
      "_________________________________________________________________\n",
      " Layer (type)                Output Shape              Param #   \n",
      "=================================================================\n",
      " dense_25 (Dense)            (None, 10)                1160      \n",
      "                                                                 \n",
      " dense_26 (Dense)            (None, 40)                440       \n",
      "                                                                 \n",
      " dense_27 (Dense)            (None, 10)                410       \n",
      "                                                                 \n",
      " dense_28 (Dense)            (None, 1)                 11        \n",
      "                                                                 \n",
      " dense_29 (Dense)            (None, 11)                22        \n",
      "                                                                 \n",
      "=================================================================\n",
      "Total params: 2,043\n",
      "Trainable params: 2,043\n",
      "Non-trainable params: 0\n",
      "_________________________________________________________________\n"
     ]
    }
   ],
   "source": [
    "import tensorflow as tf\n",
    "from tensorflow import keras\n",
    "from tensorflow.keras import Model\n",
    "\n",
    "from tensorflow.keras.utils import plot_model\n",
    "from tensorflow.keras.layers import Input, Dense, BatchNormalization\n",
    "from IPython.core.display import Image\n",
    "\n",
    "\n",
    "\n",
    "model = Sequential()\n",
    "model.add(Dense(10, input_dim=train_data_st.shape[1], activation='relu'))\n",
    "model.add(Dense(40, activation='relu'))\n",
    "model.add(Dense(10, activation='relu'))\n",
    "model.add(Dense(1, kernel_initializer='normal'))\n",
    "model.add(Dense(labels.shape[1],activation='softmax'))\n",
    "\n",
    "modelName = 'ANN'\n",
    "keras.utils.plot_model(model, './'+modelName+'_Archi.png',show_shapes=True)\n",
    "model.summary()"
   ]
  },
  {
   "cell_type": "code",
   "execution_count": 127,
   "id": "23e6f6f3",
   "metadata": {},
   "outputs": [
    {
     "name": "stderr",
     "output_type": "stream",
     "text": [
      "D:\\Anaconda\\lib\\site-packages\\keras\\optimizer_v2\\adam.py:105: UserWarning: The `lr` argument is deprecated, use `learning_rate` instead.\n",
      "  super(Adam, self).__init__(name, **kwargs)\n"
     ]
    }
   ],
   "source": [
    "adam = keras.optimizers.Adam(lr=0.001, beta_1=0.9, beta_2=0.999, epsilon=1e-08, decay=0.0)\n",
    "#sgd = SGD(lr=0.001, decay=1e-6, momentum=0.9, nesterov=True) \n",
    "\n",
    "model.compile(loss='categorical_crossentropy', optimizer=adam, metrics=['accuracy'])\n",
    "learning_rate_reduction = ReduceLROnPlateau(monitor='val_accuracy', \n",
    "                                            patience=3, \n",
    "                                            verbose=1, \n",
    "                                            factor=0.5, \n",
    "                                            lr=0.00001)\n",
    "earlystop = EarlyStopping(monitor = 'val_loss',\n",
    "                          min_delta = 0,\n",
    "                          patience = 10,\n",
    "                          verbose = 1,\n",
    "                          restore_best_weights = True)\n",
    "\n",
    "checkpoint = ModelCheckpoint('./'+modelName+'.h5',\n",
    "                            monitor='val_loss',\n",
    "                             mode='min',\n",
    "                             save_best_only=True,\n",
    "                             save_weights_only=True,\n",
    "                             verbose=1)"
   ]
  },
  {
   "cell_type": "code",
   "execution_count": 128,
   "id": "0ec941d9",
   "metadata": {},
   "outputs": [
    {
     "name": "stdout",
     "output_type": "stream",
     "text": [
      "Epoch 1/20\n",
      "2258/2264 [============================>.] - ETA: 0s - loss: 1.1426 - accuracy: 0.5078\n",
      "Epoch 1: val_loss improved from inf to 0.82141, saving model to .\\ANN.h5\n",
      "2264/2264 [==============================] - 11s 4ms/step - loss: 1.1418 - accuracy: 0.5083 - val_loss: 0.8214 - val_accuracy: 0.6837 - lr: 0.0010\n",
      "Epoch 2/20\n",
      "2258/2264 [============================>.] - ETA: 0s - loss: 0.7263 - accuracy: 0.7371\n",
      "Epoch 2: val_loss improved from 0.82141 to 0.64606, saving model to .\\ANN.h5\n",
      "2264/2264 [==============================] - 6s 3ms/step - loss: 0.7260 - accuracy: 0.7372 - val_loss: 0.6461 - val_accuracy: 0.7619 - lr: 0.0010\n",
      "Epoch 3/20\n",
      "2248/2264 [============================>.] - ETA: 0s - loss: 0.5953 - accuracy: 0.7740\n",
      "Epoch 3: val_loss improved from 0.64606 to 0.53836, saving model to .\\ANN.h5\n",
      "2264/2264 [==============================] - 5s 2ms/step - loss: 0.5950 - accuracy: 0.7741 - val_loss: 0.5384 - val_accuracy: 0.7951 - lr: 0.0010\n",
      "Epoch 4/20\n",
      "2256/2264 [============================>.] - ETA: 0s - loss: 0.5198 - accuracy: 0.7954\n",
      "Epoch 4: val_loss improved from 0.53836 to 0.47564, saving model to .\\ANN.h5\n",
      "2264/2264 [==============================] - 7s 3ms/step - loss: 0.5197 - accuracy: 0.7954 - val_loss: 0.4756 - val_accuracy: 0.8102 - lr: 0.0010\n",
      "Epoch 5/20\n",
      "2240/2264 [============================>.] - ETA: 0s - loss: 0.4681 - accuracy: 0.8099\n",
      "Epoch 5: val_loss improved from 0.47564 to 0.44335, saving model to .\\ANN.h5\n",
      "2264/2264 [==============================] - 7s 3ms/step - loss: 0.4682 - accuracy: 0.8099 - val_loss: 0.4433 - val_accuracy: 0.8184 - lr: 0.0010\n",
      "Epoch 6/20\n",
      "2250/2264 [============================>.] - ETA: 0s - loss: 0.4317 - accuracy: 0.8180\n",
      "Epoch 6: val_loss improved from 0.44335 to 0.40087, saving model to .\\ANN.h5\n",
      "2264/2264 [==============================] - 6s 3ms/step - loss: 0.4313 - accuracy: 0.8181 - val_loss: 0.4009 - val_accuracy: 0.8249 - lr: 0.0010\n",
      "Epoch 7/20\n",
      "2257/2264 [============================>.] - ETA: 0s - loss: 0.4048 - accuracy: 0.8225\n",
      "Epoch 7: val_loss improved from 0.40087 to 0.38222, saving model to .\\ANN.h5\n",
      "2264/2264 [==============================] - 6s 3ms/step - loss: 0.4047 - accuracy: 0.8225 - val_loss: 0.3822 - val_accuracy: 0.8250 - lr: 0.0010\n",
      "Epoch 8/20\n",
      "2263/2264 [============================>.] - ETA: 0s - loss: 0.3834 - accuracy: 0.8245\n",
      "Epoch 8: val_loss improved from 0.38222 to 0.36278, saving model to .\\ANN.h5\n",
      "2264/2264 [==============================] - 6s 3ms/step - loss: 0.3833 - accuracy: 0.8245 - val_loss: 0.3628 - val_accuracy: 0.8282 - lr: 0.0010\n",
      "Epoch 9/20\n",
      "2248/2264 [============================>.] - ETA: 0s - loss: 0.3691 - accuracy: 0.8262\n",
      "Epoch 9: val_loss did not improve from 0.36278\n",
      "2264/2264 [==============================] - 7s 3ms/step - loss: 0.3691 - accuracy: 0.8263 - val_loss: 0.3664 - val_accuracy: 0.8309 - lr: 0.0010\n",
      "Epoch 10/20\n",
      "2243/2264 [============================>.] - ETA: 0s - loss: 0.3555 - accuracy: 0.8282\n",
      "Epoch 10: val_loss improved from 0.36278 to 0.34887, saving model to .\\ANN.h5\n",
      "2264/2264 [==============================] - 6s 3ms/step - loss: 0.3552 - accuracy: 0.8282 - val_loss: 0.3489 - val_accuracy: 0.8283 - lr: 0.0010\n",
      "Epoch 11/20\n",
      "2252/2264 [============================>.] - ETA: 0s - loss: 0.3442 - accuracy: 0.8291\n",
      "Epoch 11: val_loss improved from 0.34887 to 0.32809, saving model to .\\ANN.h5\n",
      "2264/2264 [==============================] - 7s 3ms/step - loss: 0.3441 - accuracy: 0.8291 - val_loss: 0.3281 - val_accuracy: 0.8324 - lr: 0.0010\n",
      "Epoch 12/20\n",
      "2254/2264 [============================>.] - ETA: 0s - loss: 0.3351 - accuracy: 0.8309\n",
      "Epoch 12: val_loss improved from 0.32809 to 0.31642, saving model to .\\ANN.h5\n",
      "2264/2264 [==============================] - 8s 3ms/step - loss: 0.3352 - accuracy: 0.8308 - val_loss: 0.3164 - val_accuracy: 0.8314 - lr: 0.0010\n",
      "Epoch 13/20\n",
      "2250/2264 [============================>.] - ETA: 0s - loss: 0.3255 - accuracy: 0.8317\n",
      "Epoch 13: val_loss improved from 0.31642 to 0.31500, saving model to .\\ANN.h5\n",
      "2264/2264 [==============================] - 6s 3ms/step - loss: 0.3258 - accuracy: 0.8318 - val_loss: 0.3150 - val_accuracy: 0.8315 - lr: 0.0010\n",
      "Epoch 14/20\n",
      "2252/2264 [============================>.] - ETA: 0s - loss: 0.3183 - accuracy: 0.8325\n",
      "Epoch 14: ReduceLROnPlateau reducing learning rate to 0.0005000000237487257.\n",
      "\n",
      "Epoch 14: val_loss improved from 0.31500 to 0.30927, saving model to .\\ANN.h5\n",
      "2264/2264 [==============================] - 7s 3ms/step - loss: 0.3183 - accuracy: 0.8325 - val_loss: 0.3093 - val_accuracy: 0.8321 - lr: 0.0010\n",
      "Epoch 15/20\n",
      "2264/2264 [==============================] - ETA: 0s - loss: 0.3071 - accuracy: 0.8329\n",
      "Epoch 15: val_loss improved from 0.30927 to 0.30231, saving model to .\\ANN.h5\n",
      "2264/2264 [==============================] - 6s 2ms/step - loss: 0.3071 - accuracy: 0.8329 - val_loss: 0.3023 - val_accuracy: 0.8398 - lr: 5.0000e-04\n",
      "Epoch 16/20\n",
      "2249/2264 [============================>.] - ETA: 0s - loss: 0.3029 - accuracy: 0.8332\n",
      "Epoch 16: val_loss did not improve from 0.30231\n",
      "2264/2264 [==============================] - 5s 2ms/step - loss: 0.3028 - accuracy: 0.8333 - val_loss: 0.3035 - val_accuracy: 0.8309 - lr: 5.0000e-04\n",
      "Epoch 17/20\n",
      "2259/2264 [============================>.] - ETA: 0s - loss: 0.3000 - accuracy: 0.8341\n",
      "Epoch 17: val_loss improved from 0.30231 to 0.28842, saving model to .\\ANN.h5\n",
      "2264/2264 [==============================] - 5s 2ms/step - loss: 0.2999 - accuracy: 0.8341 - val_loss: 0.2884 - val_accuracy: 0.8297 - lr: 5.0000e-04\n",
      "Epoch 18/20\n",
      "2261/2264 [============================>.] - ETA: 0s - loss: 0.2960 - accuracy: 0.8336\n",
      "Epoch 18: ReduceLROnPlateau reducing learning rate to 0.0002500000118743628.\n",
      "\n",
      "Epoch 18: val_loss did not improve from 0.28842\n",
      "2264/2264 [==============================] - 7s 3ms/step - loss: 0.2965 - accuracy: 0.8336 - val_loss: 0.2975 - val_accuracy: 0.8310 - lr: 5.0000e-04\n",
      "Epoch 19/20\n",
      "2249/2264 [============================>.] - ETA: 0s - loss: 0.2922 - accuracy: 0.8341\n",
      "Epoch 19: val_loss improved from 0.28842 to 0.28532, saving model to .\\ANN.h5\n",
      "2264/2264 [==============================] - 15s 6ms/step - loss: 0.2921 - accuracy: 0.8341 - val_loss: 0.2853 - val_accuracy: 0.8308 - lr: 2.5000e-04\n",
      "Epoch 20/20\n",
      "2255/2264 [============================>.] - ETA: 0s - loss: 0.2899 - accuracy: 0.8349\n",
      "Epoch 20: val_loss improved from 0.28532 to 0.27916, saving model to .\\ANN.h5\n",
      "2264/2264 [==============================] - 6s 3ms/step - loss: 0.2899 - accuracy: 0.8349 - val_loss: 0.2792 - val_accuracy: 0.8337 - lr: 2.5000e-04\n"
     ]
    },
    {
     "ename": "TypeError",
     "evalue": "set_ticks() takes 2 positional arguments but 3 were given",
     "output_type": "error",
     "traceback": [
      "\u001b[1;31m---------------------------------------------------------------------------\u001b[0m",
      "\u001b[1;31mTypeError\u001b[0m                                 Traceback (most recent call last)",
      "\u001b[1;32m~\\AppData\\Local\\Temp/ipykernel_6896/4136439826.py\u001b[0m in \u001b[0;36m<module>\u001b[1;34m\u001b[0m\n\u001b[0;32m     33\u001b[0m     \u001b[0mplt\u001b[0m\u001b[1;33m.\u001b[0m\u001b[0mshow\u001b[0m\u001b[1;33m(\u001b[0m\u001b[1;33m)\u001b[0m\u001b[1;33m\u001b[0m\u001b[1;33m\u001b[0m\u001b[0m\n\u001b[0;32m     34\u001b[0m \u001b[1;33m\u001b[0m\u001b[0m\n\u001b[1;32m---> 35\u001b[1;33m \u001b[0mplot_model_history\u001b[0m\u001b[1;33m(\u001b[0m\u001b[0mhistory\u001b[0m\u001b[1;33m)\u001b[0m\u001b[1;33m\u001b[0m\u001b[1;33m\u001b[0m\u001b[0m\n\u001b[0m\u001b[0;32m     36\u001b[0m \u001b[1;32mwith\u001b[0m \u001b[0mopen\u001b[0m\u001b[1;33m(\u001b[0m\u001b[1;34m'./History_'\u001b[0m\u001b[1;33m+\u001b[0m\u001b[0mmodelName\u001b[0m\u001b[1;33m,\u001b[0m \u001b[1;34m'wb'\u001b[0m\u001b[1;33m)\u001b[0m \u001b[1;32mas\u001b[0m \u001b[0mfile_pi\u001b[0m\u001b[1;33m:\u001b[0m\u001b[1;33m\u001b[0m\u001b[1;33m\u001b[0m\u001b[0m\n\u001b[0;32m     37\u001b[0m         \u001b[0mpickle\u001b[0m\u001b[1;33m.\u001b[0m\u001b[0mdump\u001b[0m\u001b[1;33m(\u001b[0m\u001b[0mhistory\u001b[0m\u001b[1;33m.\u001b[0m\u001b[0mhistory\u001b[0m\u001b[1;33m,\u001b[0m \u001b[0mfile_pi\u001b[0m\u001b[1;33m)\u001b[0m\u001b[1;33m\u001b[0m\u001b[1;33m\u001b[0m\u001b[0m\n",
      "\u001b[1;32m~\\AppData\\Local\\Temp/ipykernel_6896/4136439826.py\u001b[0m in \u001b[0;36mplot_model_history\u001b[1;34m(model_history)\u001b[0m\n\u001b[0;32m     18\u001b[0m     \u001b[0maxs\u001b[0m\u001b[1;33m[\u001b[0m\u001b[1;36m0\u001b[0m\u001b[1;33m]\u001b[0m\u001b[1;33m.\u001b[0m\u001b[0mset_ylabel\u001b[0m\u001b[1;33m(\u001b[0m\u001b[1;34m'Accuracy'\u001b[0m\u001b[1;33m)\u001b[0m\u001b[1;33m\u001b[0m\u001b[1;33m\u001b[0m\u001b[0m\n\u001b[0;32m     19\u001b[0m     \u001b[0maxs\u001b[0m\u001b[1;33m[\u001b[0m\u001b[1;36m0\u001b[0m\u001b[1;33m]\u001b[0m\u001b[1;33m.\u001b[0m\u001b[0mset_xlabel\u001b[0m\u001b[1;33m(\u001b[0m\u001b[1;34m'Epoch'\u001b[0m\u001b[1;33m)\u001b[0m\u001b[1;33m\u001b[0m\u001b[1;33m\u001b[0m\u001b[0m\n\u001b[1;32m---> 20\u001b[1;33m     \u001b[0maxs\u001b[0m\u001b[1;33m[\u001b[0m\u001b[1;36m0\u001b[0m\u001b[1;33m]\u001b[0m\u001b[1;33m.\u001b[0m\u001b[0mset_xticks\u001b[0m\u001b[1;33m(\u001b[0m\u001b[0mnp\u001b[0m\u001b[1;33m.\u001b[0m\u001b[0marange\u001b[0m\u001b[1;33m(\u001b[0m\u001b[1;36m1\u001b[0m\u001b[1;33m,\u001b[0m\u001b[0mlen\u001b[0m\u001b[1;33m(\u001b[0m\u001b[0mmodel_history\u001b[0m\u001b[1;33m.\u001b[0m\u001b[0mhistory\u001b[0m\u001b[1;33m[\u001b[0m\u001b[1;34m'accuracy'\u001b[0m\u001b[1;33m]\u001b[0m\u001b[1;33m)\u001b[0m\u001b[1;33m+\u001b[0m\u001b[1;36m1\u001b[0m\u001b[1;33m)\u001b[0m\u001b[1;33m,\u001b[0m\u001b[0mlen\u001b[0m\u001b[1;33m(\u001b[0m\u001b[0mmodel_history\u001b[0m\u001b[1;33m.\u001b[0m\u001b[0mhistory\u001b[0m\u001b[1;33m[\u001b[0m\u001b[1;34m'accuracy'\u001b[0m\u001b[1;33m]\u001b[0m\u001b[1;33m)\u001b[0m\u001b[1;33m/\u001b[0m\u001b[1;36m10\u001b[0m\u001b[1;33m)\u001b[0m\u001b[1;33m\u001b[0m\u001b[1;33m\u001b[0m\u001b[0m\n\u001b[0m\u001b[0;32m     21\u001b[0m     \u001b[0maxs\u001b[0m\u001b[1;33m[\u001b[0m\u001b[1;36m0\u001b[0m\u001b[1;33m]\u001b[0m\u001b[1;33m.\u001b[0m\u001b[0mlegend\u001b[0m\u001b[1;33m(\u001b[0m\u001b[1;33m[\u001b[0m\u001b[1;34m'train'\u001b[0m\u001b[1;33m,\u001b[0m \u001b[1;34m'val'\u001b[0m\u001b[1;33m]\u001b[0m\u001b[1;33m,\u001b[0m \u001b[0mloc\u001b[0m\u001b[1;33m=\u001b[0m\u001b[1;34m'best'\u001b[0m\u001b[1;33m)\u001b[0m\u001b[1;33m\u001b[0m\u001b[1;33m\u001b[0m\u001b[0m\n\u001b[0;32m     22\u001b[0m     \u001b[0maxs\u001b[0m\u001b[1;33m[\u001b[0m\u001b[1;36m0\u001b[0m\u001b[1;33m]\u001b[0m\u001b[1;33m.\u001b[0m\u001b[0mgrid\u001b[0m\u001b[1;33m(\u001b[0m\u001b[1;34m'on'\u001b[0m\u001b[1;33m)\u001b[0m\u001b[1;33m\u001b[0m\u001b[1;33m\u001b[0m\u001b[0m\n",
      "\u001b[1;32mD:\\Anaconda\\lib\\site-packages\\matplotlib\\axes\\_base.py\u001b[0m in \u001b[0;36mwrapper\u001b[1;34m(self, *args, **kwargs)\u001b[0m\n\u001b[0;32m     71\u001b[0m \u001b[1;33m\u001b[0m\u001b[0m\n\u001b[0;32m     72\u001b[0m         \u001b[1;32mdef\u001b[0m \u001b[0mwrapper\u001b[0m\u001b[1;33m(\u001b[0m\u001b[0mself\u001b[0m\u001b[1;33m,\u001b[0m \u001b[1;33m*\u001b[0m\u001b[0margs\u001b[0m\u001b[1;33m,\u001b[0m \u001b[1;33m**\u001b[0m\u001b[0mkwargs\u001b[0m\u001b[1;33m)\u001b[0m\u001b[1;33m:\u001b[0m\u001b[1;33m\u001b[0m\u001b[1;33m\u001b[0m\u001b[0m\n\u001b[1;32m---> 73\u001b[1;33m             \u001b[1;32mreturn\u001b[0m \u001b[0mget_method\u001b[0m\u001b[1;33m(\u001b[0m\u001b[0mself\u001b[0m\u001b[1;33m)\u001b[0m\u001b[1;33m(\u001b[0m\u001b[1;33m*\u001b[0m\u001b[0margs\u001b[0m\u001b[1;33m,\u001b[0m \u001b[1;33m**\u001b[0m\u001b[0mkwargs\u001b[0m\u001b[1;33m)\u001b[0m\u001b[1;33m\u001b[0m\u001b[1;33m\u001b[0m\u001b[0m\n\u001b[0m\u001b[0;32m     74\u001b[0m \u001b[1;33m\u001b[0m\u001b[0m\n\u001b[0;32m     75\u001b[0m         \u001b[0mwrapper\u001b[0m\u001b[1;33m.\u001b[0m\u001b[0m__module__\u001b[0m \u001b[1;33m=\u001b[0m \u001b[0mowner\u001b[0m\u001b[1;33m.\u001b[0m\u001b[0m__module__\u001b[0m\u001b[1;33m\u001b[0m\u001b[1;33m\u001b[0m\u001b[0m\n",
      "\u001b[1;31mTypeError\u001b[0m: set_ticks() takes 2 positional arguments but 3 were given"
     ]
    },
    {
     "data": {
      "image/png": "[encoded data removed]",
      "text/plain": [
       "<Figure size 1080x360 with 2 Axes>"
      ]
     },
     "metadata": {
      "needs_background": "light"
     },
     "output_type": "display_data"
    }
   ],
   "source": [
    "epochs = 20\n",
    "batch_size = 256\n",
    "history = model.fit(x_train_cnn,y_train, batch_size=batch_size,\n",
    "    steps_per_epoch=x_train.shape[0] // batch_size,\n",
    "    epochs=epochs,\n",
    "    validation_data=(x_validate_cnn,y_validate),\n",
    "    #validation_split=0.10,\n",
    "    callbacks=[learning_rate_reduction, checkpoint] \n",
    ")\n",
    "\n",
    "#1. Function to plot model's validation loss and validation accuracy\n",
    "def plot_model_history(model_history):\n",
    "    fig, axs = plt.subplots(1,2,figsize=(15,5))\n",
    "    # summarize history for accuracy\n",
    "    axs[0].plot(range(1,len(model_history.history['accuracy'])+1), model_history.history['accuracy'], '--*', color = (1,0,0))\n",
    "    axs[0].plot(range(1,len(model_history.history['val_accuracy'])+1), model_history.history['val_accuracy'], '-^', color = (0.7,0,0.7))\n",
    "    axs[0].set_title('Model '+modelName+' Accuracy')\n",
    "    axs[0].set_ylabel('Accuracy')\n",
    "    axs[0].set_xlabel('Epoch')\n",
    "    axs[0].set_xticks(np.arange(1,len(model_history.history['accuracy'])+1),len(model_history.history['accuracy'])/10)\n",
    "    axs[0].legend(['train', 'val'], loc='best')\n",
    "    axs[0].grid('on')\n",
    "    # summarize history for loss\n",
    "    axs[1].plot(range(1,len(model_history.history['loss'])+1), model_history.history['loss'],'-x', color = (0,0.5,0))\n",
    "    axs[1].plot(range(1,len(model_history.history['val_loss'])+1), model_history.history['val_loss'],  '-.D', color = (0,0,0.5))\n",
    "    axs[1].set_title('Model '+modelName+' Loss')\n",
    "    axs[1].set_ylabel('Loss')\n",
    "    axs[1].set_xlabel('Epoch')\n",
    "    axs[1].set_xticks(np.arange(1,len(model_history.history['loss'])+1),len(model_history.history['loss'])/10)\n",
    "    axs[1].legend(['train', 'val'], loc='best')\n",
    "    axs[1].grid('on')\n",
    "    plt.savefig('./'+modelName+'.jpg',dpi=600, quality = 100, optimize = True)\n",
    "    plt.show()\n",
    "\n",
    "plot_model_history(history)\n",
    "with open('./History_'+modelName, 'wb') as file_pi:\n",
    "        pickle.dump(history.history, file_pi)"
   ]
  },
  {
   "cell_type": "code",
   "execution_count": 129,
   "id": "9b5f2212",
   "metadata": {},
   "outputs": [
    {
     "data": {
      "image/png": "[encoded data removed]",
      "text/plain": [
       "<Figure size 792x792 with 2 Axes>"
      ]
     },
     "metadata": {
      "needs_background": "light"
     },
     "output_type": "display_data"
    }
   ],
   "source": [
    "from sklearn.metrics import accuracy_score, confusion_matrix, precision_recall_fscore_support,  roc_curve, auc\n",
    "import tensorflow as tf \n",
    "#model = tf.keras.models.load_model('/'+model_name+'.h5')\n",
    "\n",
    "y_pred = model.predict(x_test_cnn)\n",
    "\n",
    "y_pred_cm  = np.argmax(y_pred, axis=1)\n",
    "y_test_cm  = np.argmax(y_test, axis=1)\n",
    "\n",
    "cm = confusion_matrix(y_test_cm, y_pred_cm) \n",
    "\n",
    "group_counts = [\"{0:0.0f}\".format(value) for value in cm.flatten()]\n",
    "\n",
    "group_percentages = [\"{0:.2%}\".format(value) for value in cm.flatten()/np.sum(cm)]\n",
    "\n",
    "labels = [f\"{v1}\\n{v2}\" for v1, v2 in zip(group_counts,group_percentages)]\n",
    "\n",
    "labels = np.asarray(labels).reshape(11,11)\n",
    "\n",
    "label = ['benign','mirai_udp','gafgyt_combo','gafgyt_junk','gafgyt_scan','gafgyt_tcp','gafgyt_udp'\\\n",
    "        ,'mirai_ack','mirai_scan','mirai_syn','mirai_udpplain']\n",
    "\n",
    "plt.figure(figsize=(11,11))\n",
    "sns.heatmap(cm, xticklabels=label, yticklabels=label, annot=labels, fmt='', cmap=\"Blues\", vmin = 0.2);\n",
    "plt.title('Confusion Matrix for'+ modelName+' model')\n",
    "plt.ylabel('True Class')\n",
    "plt.xlabel('Predicted Class')\n",
    "plt.savefig('./'+modelName+'_CM.png')\n",
    "plt.show()"
   ]
  },
  {
   "cell_type": "code",
   "execution_count": 130,
   "id": "3d2607ca",
   "metadata": {},
   "outputs": [
    {
     "name": "stderr",
     "output_type": "stream",
     "text": [
      "D:\\Anaconda\\lib\\site-packages\\sklearn\\metrics\\_classification.py:1248: UndefinedMetricWarning: Precision and F-score are ill-defined and being set to 0.0 in labels with no predicted samples. Use `zero_division` parameter to control this behavior.\n",
      "  _warn_prf(average, modifier, msg_start, len(result))\n",
      "D:\\Anaconda\\lib\\site-packages\\sklearn\\metrics\\_classification.py:1248: UndefinedMetricWarning: Precision and F-score are ill-defined and being set to 0.0 in labels with no predicted samples. Use `zero_division` parameter to control this behavior.\n",
      "  _warn_prf(average, modifier, msg_start, len(result))\n"
     ]
    },
    {
     "name": "stdout",
     "output_type": "stream",
     "text": [
      "                precision    recall  f1-score   support\n",
      "\n",
      "        benign       1.00      1.00      1.00     12443\n",
      "     mirai_udp       0.73      0.76      0.75     12238\n",
      "  gafgyt_combo       0.49      0.43      0.46      6220\n",
      "   gafgyt_junk       1.00      0.99      1.00      5866\n",
      "   gafgyt_scan       0.00      0.00      0.00     20863\n",
      "    gafgyt_tcp       0.50      1.00      0.67     20814\n",
      "    gafgyt_udp       1.00      0.99      1.00     12072\n",
      "     mirai_ack       1.00      1.00      1.00     19443\n",
      "    mirai_scan       0.98      1.00      0.99     13221\n",
      "     mirai_syn       1.00      1.00      1.00     31168\n",
      "mirai_udpplain       1.00      1.00      1.00     11304\n",
      "\n",
      "      accuracy                           0.83    165652\n",
      "     macro avg       0.79      0.83      0.80    165652\n",
      "  weighted avg       0.77      0.83      0.79    165652\n",
      "\n",
      "  38/5177 [..............................] - ETA: 7s - loss: 0.2883 - accuracy: 0.8306  "
     ]
    },
    {
     "name": "stderr",
     "output_type": "stream",
     "text": [
      "D:\\Anaconda\\lib\\site-packages\\sklearn\\metrics\\_classification.py:1248: UndefinedMetricWarning: Precision and F-score are ill-defined and being set to 0.0 in labels with no predicted samples. Use `zero_division` parameter to control this behavior.\n",
      "  _warn_prf(average, modifier, msg_start, len(result))\n"
     ]
    },
    {
     "name": "stdout",
     "output_type": "stream",
     "text": [
      "5177/5177 [==============================] - 9s 2ms/step - loss: 0.2885 - accuracy: 0.8337\n",
      "Test: accuracy = 0.833706  ;  loss = 0.288488\n"
     ]
    },
    {
     "name": "stderr",
     "output_type": "stream",
     "text": [
      "D:\\Anaconda\\lib\\site-packages\\sklearn\\metrics\\_classification.py:1248: UndefinedMetricWarning: Precision and F-score are ill-defined and being set to 0.0 in labels with no predicted samples. Use `zero_division` parameter to control this behavior.\n",
      "  _warn_prf(average, modifier, msg_start, len(result))\n",
      "D:\\Anaconda\\lib\\site-packages\\sklearn\\metrics\\_classification.py:1248: UndefinedMetricWarning: Precision and F-score are ill-defined and being set to 0.0 in labels with no predicted samples. Use `zero_division` parameter to control this behavior.\n",
      "  _warn_prf(average, modifier, msg_start, len(result))\n",
      "D:\\Anaconda\\lib\\site-packages\\sklearn\\metrics\\_classification.py:1248: UndefinedMetricWarning: Precision and F-score are ill-defined and being set to 0.0 in labels with no predicted samples. Use `zero_division` parameter to control this behavior.\n",
      "  _warn_prf(average, modifier, msg_start, len(result))\n"
     ]
    }
   ],
   "source": [
    "print(classification_report(y_test_cm, y_pred_cm, target_names= ['benign','mirai_udp','gafgyt_combo','gafgyt_junk','gafgyt_scan','gafgyt_tcp','gafgyt_udp','mirai_ack','mirai_scan','mirai_syn','mirai_udpplain']))\n",
    "\n",
    "loss, accuracy = model.evaluate(x_test_cnn, y_test, verbose=1)\n",
    "print(\"Test: accuracy = %f  ;  loss = %f\" % (accuracy, loss))\n",
    "\n",
    "with open('./'+modelName+'_CR.txt','a') as f:\n",
    "    f.write(classification_report(y_test_cm, y_pred_cm, target_names= ['benign','mirai_udp','gafgyt_combo','gafgyt_junk','gafgyt_scan','gafgyt_tcp','gafgyt_udp','mirai_ack','mirai_scan','mirai_syn','mirai_udpplain']))\n",
    "    f.write(\"Test: accuracy = %f  ;  loss = %f\" % (accuracy, loss))"
   ]
  },
  {
   "cell_type": "code",
   "execution_count": null,
   "id": "950d2e30",
   "metadata": {},
   "outputs": [],
   "source": []
  },
  {
   "cell_type": "code",
   "execution_count": null,
   "id": "595847c7",
   "metadata": {},
   "outputs": [],
   "source": []
  },
  {
   "cell_type": "code",
   "execution_count": null,
   "id": "ffbdd4dd",
   "metadata": {},
   "outputs": [],
   "source": []
  }
 ],
 "metadata": {
  "kernelspec": {
   "display_name": "Python 3 (ipykernel)",
   "language": "python",
   "name": "python3"
  },
  "language_info": {
   "codemirror_mode": {
    "name": "ipython",
    "version": 3
   },
   "file_extension": ".py",
   "mimetype": "text/x-python",
   "name": "python",
   "nbconvert_exporter": "python",
   "pygments_lexer": "ipython3",
   "version": "3.9.7"
  }
 },
 "nbformat": 4,
 "nbformat_minor": 5
}

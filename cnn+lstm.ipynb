{
 "cells": [
  {
   "cell_type": "code",
   "execution_count": 1,
   "id": "15c71445",
   "metadata": {},
   "outputs": [],
   "source": [
    "import numpy as np  # linear algebra\n",
    "import pandas as pd # Data processing, CSV file I/O (e.g. pd.read_csv)\n",
    "import os\n",
    "%matplotlib inline\n",
    "import matplotlib.pyplot as plt\n",
    "from glob import glob\n",
    "import seaborn as sns\n",
    "from PIL import Image\n",
    "#from imutils import paths\n",
    "import random\n",
    "import pickle\n",
    "\n",
    "\n",
    "\n",
    "from sklearn.model_selection import *\n",
    "from sklearn.preprocessing import *\n",
    "from sklearn.metrics import *\n",
    "\n",
    "import keras\n",
    "from keras.utils import np_utils\n",
    "from keras.regularizers import *\n",
    "from keras.initializers import glorot_uniform\n",
    "\n",
    "import keras.backend as K\n",
    "K.clear_session()\n",
    "\n",
    "from keras.models import *\n",
    "from keras.layers import *\n",
    "from keras.preprocessing.image import ImageDataGenerator\n",
    "from keras.optimizers import *\n",
    "from keras.callbacks import *"
   ]
  },
  {
   "cell_type": "code",
   "execution_count": 4,
   "id": "c76a1cff",
   "metadata": {},
   "outputs": [],
   "source": [
    "\n",
    "benign=pd.read_csv('1.benign.csv')\n",
    "g_c=pd.read_csv('1.gafgyt.combo.csv')\n",
    "g_j=pd.read_csv('1.gafgyt.junk.csv')\n",
    "g_s=pd.read_csv('1.gafgyt.scan.csv')\n",
    "g_t=pd.read_csv('1.gafgyt.tcp.csv')\n",
    "g_u=pd.read_csv('1.gafgyt.udp.csv')\n",
    "m_a=pd.read_csv('1.mirai.ack.csv')\n",
    "m_sc=pd.read_csv('1.mirai.scan.csv')\n",
    "m_sy=pd.read_csv('1.mirai.syn.csv')\n",
    "m_u=pd.read_csv('1.mirai.udp.csv')\n",
    "m_u_p=pd.read_csv('1.mirai.udpplain.csv')"
   ]
  },
  {
   "cell_type": "code",
   "execution_count": null,
   "id": "d7542be4",
   "metadata": {},
   "outputs": [],
   "source": []
  }
 ],
 "metadata": {
  "kernelspec": {
   "display_name": "Python 3 (ipykernel)",
   "language": "python",
   "name": "python3"
  },
  "language_info": {
   "codemirror_mode": {
    "name": "ipython",
    "version": 3
   },
   "file_extension": ".py",
   "mimetype": "text/x-python",
   "name": "python",
   "nbconvert_exporter": "python",
   "pygments_lexer": "ipython3",
   "version": "3.9.7"
  }
 },
 "nbformat": 4,
 "nbformat_minor": 5
}
